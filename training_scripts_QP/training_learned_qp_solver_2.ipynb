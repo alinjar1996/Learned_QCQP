{
 "cells": [
  {
   "cell_type": "code",
   "execution_count": 1,
   "id": "222991d4",
   "metadata": {},
   "outputs": [],
   "source": [
    "import numpy as np \n",
    "import matplotlib.pyplot as plt \n",
    "import seaborn as sns\n",
    "sns.set_theme()\n",
    "\n",
    "import torch \n",
    "import torch.nn as nn \n",
    "import torch.optim as optim\n",
    "\n",
    "\n",
    "from models.learned_qp_solver_2_gru import MLP_Init,  CustomGRULayer, GRU_Hidden_State,  learned_qp_solver\n",
    "from scipy.io import loadmat\n",
    "from torch.utils.data import Dataset, DataLoader"
   ]
  },
  {
   "cell_type": "code",
   "execution_count": 2,
   "id": "684547ef",
   "metadata": {},
   "outputs": [
    {
     "name": "stdout",
     "output_type": "stream",
     "text": [
      "Using cuda device\n"
     ]
    }
   ],
   "source": [
    "device = torch.device(\"cuda\" if torch.cuda.is_available() else \"cpu\")\n",
    "print(f\"Using {device} device\")"
   ]
  },
  {
   "cell_type": "code",
   "execution_count": 3,
   "id": "d9790373",
   "metadata": {},
   "outputs": [],
   "source": [
    "\n",
    "\n",
    "num = 50\n",
    "t = 0.05\n",
    "\n",
    "\n",
    "vel_min = -1.5\n",
    "vel_max = 1.5\n",
    "\n",
    "acc_min = -3.0\n",
    "acc_max = 3.0\n",
    "\n",
    "jerk_min = -3.0\n",
    "jerk_max = 3.0\n",
    "\n",
    "theta_min = -3.14\n",
    "theta_max = 3.14\n",
    "\n"
   ]
  },
  {
   "cell_type": "code",
   "execution_count": 4,
   "id": "6b7a02b9",
   "metadata": {},
   "outputs": [
    {
     "name": "stdout",
     "output_type": "stream",
     "text": [
      "0.0003429442179719457 2.561904150071125\n"
     ]
    }
   ],
   "source": [
    "#### creating dataset \n",
    "\n",
    "dataset_size = 200000\n",
    "\n",
    "vel_samples = np.random.uniform(3*vel_min, 3*vel_max,  (dataset_size, num)    )\n",
    "\n",
    "theta_init = np.random.uniform(theta_min, theta_max, (dataset_size, 1)  )\n",
    "vel_init = np.random.uniform(vel_min, vel_max, (dataset_size, 1)  )\n",
    "acc_init = np.random.uniform(acc_min, acc_max, (dataset_size, 1)  )\n",
    "\n",
    "\n",
    "inp = np.hstack(( vel_samples, theta_init, vel_init))\n",
    "\n",
    "# normalization_const = (vel_max-vel_min)\n",
    "\n",
    "inp_mean, inp_std = inp.mean(), inp.std()\n",
    "\n",
    "\n",
    "\n",
    "print(inp_mean, inp_std)\n",
    "\n"
   ]
  },
  {
   "cell_type": "code",
   "execution_count": 5,
   "id": "197f4d0d",
   "metadata": {},
   "outputs": [],
   "source": [
    "# Custom Dataset Loader \n",
    "class TrajDataset(Dataset):\n",
    "\t\"\"\"Expert Trajectory Dataset.\"\"\"\n",
    "\tdef __init__(self, inp, vel_init, acc_init, theta_init, vel_samples):\n",
    "\t\t\n",
    "\t\t# State Data\n",
    "\t\tself.inp = inp\n",
    "  \n",
    "\t\tself.vel_init = vel_init\n",
    "\t\tself.acc_init = acc_init\n",
    "\t\t\n",
    "\t\t# PCD Data\n",
    "\t\tself.theta_init = theta_init\n",
    "\t\t\n",
    "\t\t# Expert Coeff\n",
    "\t\tself.vel_samples = vel_samples\n",
    "\n",
    "\t\t\n",
    "\t\t\n",
    "\t\n",
    "\tdef __len__(self):\n",
    "\t\treturn len(self.inp)    \n",
    "\t\t\t\n",
    "\tdef __getitem__(self, idx):\n",
    "\t\t\n",
    "\t\t# Inputs\n",
    "\t\tinp = self.inp[idx]\n",
    "\t\tvel_init = self.vel_init[idx]\n",
    "\n",
    "\t\tacc_init = self.acc_init[idx]\n",
    "\t\ttheta_init = self.theta_init[idx]\n",
    "\t\t\n",
    "\t\t# Outputs\n",
    "\t\tvel_samples = self.vel_samples[idx]\n",
    "\t\n",
    "\t\t\n",
    "\t\t\n",
    "\t\treturn torch.tensor(inp).float(), torch.tensor(vel_init).float(), torch.tensor(acc_init).float(), torch.tensor(theta_init).float(), torch.tensor(vel_samples).float()\n",
    "\t\n",
    "\n",
    "# Batch Size - 3k or 4k\n",
    "batch_size = 1024*2\n",
    "\n",
    "# pcd_data = pcd_data.reshape(data_set_size, 2, 200)\n",
    "\n",
    "# Using PyTorch Dataloader\n",
    "train_dataset = TrajDataset(inp, vel_init, acc_init,  theta_init, vel_samples)\n",
    "train_loader = DataLoader(train_dataset, batch_size=batch_size, shuffle=True, num_workers=0, drop_last=True)\n",
    "\n"
   ]
  },
  {
   "cell_type": "code",
   "execution_count": 6,
   "id": "c6497894",
   "metadata": {},
   "outputs": [],
   "source": [
    "# Differentiable Layer\n",
    "num_batch = train_loader.batch_size\n",
    "\n",
    "\n",
    "num_constraints = (2*num+2*num+2*(num-1)+2*(num-2))\n",
    "\n",
    "mlp_init_inp_dim = np.shape(inp)[1]\n",
    "mlp_init_hidden_dim = 1024\n",
    "# mlp_init_out_dim = (2*nvar)**2+2*nvar+2*nvar\n",
    "mlp_init_out_dim = 2*num+num_constraints\n",
    "\n",
    "# mlp_pred = MLP_Pred(mlp_pred_inp_dim, mlp_pred_hidden_dim, mlp_pred_out_dim  )\n",
    "mlp_init = MLP_Init(mlp_init_inp_dim, mlp_init_hidden_dim, mlp_init_out_dim  )\n",
    "\n",
    "###############################333\n",
    "\n",
    "gru_input_size = 3*num_constraints+3*num\n",
    "# print(gru_input_size)\n",
    "gru_hidden_size = 512\n",
    "# gru_output_size = (2*nvar)**2+2*nvar\n",
    "gru_output_size = num_constraints+num\n",
    "# gru_context_size = mlp_planner_inp_dim\n",
    "\n",
    "gru_context = CustomGRULayer(gru_input_size, gru_hidden_size, gru_output_size)\n",
    "# gru_context_primal = CustomGRULayer(gru_input_size, gru_hidden_size, gru_output_size)\n",
    "\n",
    "input_hidden_state_init = np.shape(inp)[1]\n",
    "mid_hidden_state_init = 512\n",
    "out_hidden_state_init = gru_hidden_size\n",
    "\n",
    "gru_init  =  GRU_Hidden_State(input_hidden_state_init, mid_hidden_state_init, out_hidden_state_init)\n",
    "\n",
    "\n",
    "model = learned_qp_solver(num_batch, num, t, mlp_init, inp_mean, inp_std, gru_context, gru_init).to(device)\n",
    "# model.load_state_dict(torch.load('./weights/learned_qp_1.pth'))\n",
    "# model.load_state_dict(torch.load('./weights/learned_qp_1_gru.pth'))\n",
    "\n"
   ]
  },
  {
   "cell_type": "code",
   "execution_count": 7,
   "id": "8949f16f",
   "metadata": {},
   "outputs": [
    {
     "name": "stdout",
     "output_type": "stream",
     "text": [
      "Epoch: 1, Train Loss: 5.984, aug_loss_primal: 0.010, aug_loss_fixed_point: 2.540, aug_loss_proj: 3.434 \n",
      "Epoch: 5, Train Loss: 3.527, aug_loss_primal: 0.014, aug_loss_fixed_point: 0.147, aug_loss_proj: 3.366 \n",
      "Epoch: 9, Train Loss: 3.484, aug_loss_primal: 0.014, aug_loss_fixed_point: 0.120, aug_loss_proj: 3.350 \n",
      "Epoch: 13, Train Loss: 3.472, aug_loss_primal: 0.014, aug_loss_fixed_point: 0.114, aug_loss_proj: 3.343 \n",
      "Epoch: 17, Train Loss: 3.445, aug_loss_primal: 0.014, aug_loss_fixed_point: 0.094, aug_loss_proj: 3.336 \n"
     ]
    },
    {
     "ename": "KeyboardInterrupt",
     "evalue": "",
     "output_type": "error",
     "traceback": [
      "\u001b[31m---------------------------------------------------------------------------\u001b[39m",
      "\u001b[31mKeyboardInterrupt\u001b[39m                         Traceback (most recent call last)",
      "\u001b[36mCell\u001b[39m\u001b[36m \u001b[39m\u001b[32mIn[7]\u001b[39m\u001b[32m, line 17\u001b[39m\n\u001b[32m     12\u001b[39m \u001b[38;5;28;01mfor\u001b[39;00m epoch \u001b[38;5;129;01min\u001b[39;00m \u001b[38;5;28mrange\u001b[39m(epochs):\n\u001b[32m     13\u001b[39m \n\u001b[32m     14\u001b[39m \t\u001b[38;5;66;03m# Train Loop\u001b[39;00m\n\u001b[32m     15\u001b[39m \tlosses_train, aug_losses_primal, aug_losses_fixed_point, aug_losses_proj = [], [], [], []\n\u001b[32m---> \u001b[39m\u001b[32m17\u001b[39m \u001b[43m\t\u001b[49m\u001b[38;5;28;43;01mfor\u001b[39;49;00m\u001b[43m \u001b[49m\u001b[43m(\u001b[49m\u001b[43minp\u001b[49m\u001b[43m,\u001b[49m\u001b[43m \u001b[49m\u001b[43mvel_init\u001b[49m\u001b[43m,\u001b[49m\u001b[43m \u001b[49m\u001b[43macc_init\u001b[49m\u001b[43m,\u001b[49m\u001b[43m  \u001b[49m\u001b[43mtheta_init\u001b[49m\u001b[43m,\u001b[49m\u001b[43m \u001b[49m\u001b[43mvel_samples\u001b[49m\u001b[43m)\u001b[49m\u001b[43m \u001b[49m\u001b[38;5;129;43;01min\u001b[39;49;00m\u001b[43m \u001b[49m\u001b[43mtrain_loader\u001b[49m\u001b[43m:\u001b[49m\n\u001b[32m     18\u001b[39m \n\u001b[32m     19\u001b[39m \u001b[43m\t\t\u001b[49m\u001b[38;5;66;43;03m# Input and Output \u001b[39;49;00m\n\u001b[32m     20\u001b[39m \n\u001b[32m     21\u001b[39m \u001b[43m\t\t\u001b[49m\u001b[38;5;66;43;03m################################################################################################\u001b[39;49;00m\n\u001b[32m     22\u001b[39m \n\u001b[32m     23\u001b[39m \u001b[43m\t\t\u001b[49m\u001b[38;5;66;43;03m# print(goal_des[0])\u001b[39;49;00m\n\u001b[32m     24\u001b[39m \u001b[43m\t\t\u001b[49m\u001b[38;5;66;43;03m# print(y_lb[0], y_ub[0])\u001b[39;49;00m\n\u001b[32m     27\u001b[39m \u001b[43m\t\t\u001b[49m\u001b[43minp\u001b[49m\u001b[43m \u001b[49m\u001b[43m=\u001b[49m\u001b[43m \u001b[49m\u001b[43minp\u001b[49m\u001b[43m.\u001b[49m\u001b[43mto\u001b[49m\u001b[43m(\u001b[49m\u001b[43mdevice\u001b[49m\u001b[43m)\u001b[49m\n\u001b[32m     28\u001b[39m \u001b[43m\t\t\u001b[49m\u001b[43mvel_init\u001b[49m\u001b[43m \u001b[49m\u001b[43m=\u001b[49m\u001b[43m \u001b[49m\u001b[43mvel_init\u001b[49m\u001b[43m.\u001b[49m\u001b[43mto\u001b[49m\u001b[43m(\u001b[49m\u001b[43mdevice\u001b[49m\u001b[43m)\u001b[49m\n",
      "\u001b[36mFile \u001b[39m\u001b[32m~/amith/torch_jax_env/lib/python3.12/site-packages/torch/utils/data/dataloader.py:708\u001b[39m, in \u001b[36m_BaseDataLoaderIter.__next__\u001b[39m\u001b[34m(self)\u001b[39m\n\u001b[32m    705\u001b[39m \u001b[38;5;28;01mif\u001b[39;00m \u001b[38;5;28mself\u001b[39m._sampler_iter \u001b[38;5;129;01mis\u001b[39;00m \u001b[38;5;28;01mNone\u001b[39;00m:\n\u001b[32m    706\u001b[39m     \u001b[38;5;66;03m# TODO(https://github.com/pytorch/pytorch/issues/76750)\u001b[39;00m\n\u001b[32m    707\u001b[39m     \u001b[38;5;28mself\u001b[39m._reset()  \u001b[38;5;66;03m# type: ignore[call-arg]\u001b[39;00m\n\u001b[32m--> \u001b[39m\u001b[32m708\u001b[39m data = \u001b[38;5;28;43mself\u001b[39;49m\u001b[43m.\u001b[49m\u001b[43m_next_data\u001b[49m\u001b[43m(\u001b[49m\u001b[43m)\u001b[49m\n\u001b[32m    709\u001b[39m \u001b[38;5;28mself\u001b[39m._num_yielded += \u001b[32m1\u001b[39m\n\u001b[32m    710\u001b[39m \u001b[38;5;28;01mif\u001b[39;00m (\n\u001b[32m    711\u001b[39m     \u001b[38;5;28mself\u001b[39m._dataset_kind == _DatasetKind.Iterable\n\u001b[32m    712\u001b[39m     \u001b[38;5;129;01mand\u001b[39;00m \u001b[38;5;28mself\u001b[39m._IterableDataset_len_called \u001b[38;5;129;01mis\u001b[39;00m \u001b[38;5;129;01mnot\u001b[39;00m \u001b[38;5;28;01mNone\u001b[39;00m\n\u001b[32m    713\u001b[39m     \u001b[38;5;129;01mand\u001b[39;00m \u001b[38;5;28mself\u001b[39m._num_yielded > \u001b[38;5;28mself\u001b[39m._IterableDataset_len_called\n\u001b[32m    714\u001b[39m ):\n",
      "\u001b[36mFile \u001b[39m\u001b[32m~/amith/torch_jax_env/lib/python3.12/site-packages/torch/utils/data/dataloader.py:764\u001b[39m, in \u001b[36m_SingleProcessDataLoaderIter._next_data\u001b[39m\u001b[34m(self)\u001b[39m\n\u001b[32m    762\u001b[39m \u001b[38;5;28;01mdef\u001b[39;00m\u001b[38;5;250m \u001b[39m\u001b[34m_next_data\u001b[39m(\u001b[38;5;28mself\u001b[39m):\n\u001b[32m    763\u001b[39m     index = \u001b[38;5;28mself\u001b[39m._next_index()  \u001b[38;5;66;03m# may raise StopIteration\u001b[39;00m\n\u001b[32m--> \u001b[39m\u001b[32m764\u001b[39m     data = \u001b[38;5;28;43mself\u001b[39;49m\u001b[43m.\u001b[49m\u001b[43m_dataset_fetcher\u001b[49m\u001b[43m.\u001b[49m\u001b[43mfetch\u001b[49m\u001b[43m(\u001b[49m\u001b[43mindex\u001b[49m\u001b[43m)\u001b[49m  \u001b[38;5;66;03m# may raise StopIteration\u001b[39;00m\n\u001b[32m    765\u001b[39m     \u001b[38;5;28;01mif\u001b[39;00m \u001b[38;5;28mself\u001b[39m._pin_memory:\n\u001b[32m    766\u001b[39m         data = _utils.pin_memory.pin_memory(data, \u001b[38;5;28mself\u001b[39m._pin_memory_device)\n",
      "\u001b[36mFile \u001b[39m\u001b[32m~/amith/torch_jax_env/lib/python3.12/site-packages/torch/utils/data/_utils/fetch.py:52\u001b[39m, in \u001b[36m_MapDatasetFetcher.fetch\u001b[39m\u001b[34m(self, possibly_batched_index)\u001b[39m\n\u001b[32m     50\u001b[39m         data = \u001b[38;5;28mself\u001b[39m.dataset.__getitems__(possibly_batched_index)\n\u001b[32m     51\u001b[39m     \u001b[38;5;28;01melse\u001b[39;00m:\n\u001b[32m---> \u001b[39m\u001b[32m52\u001b[39m         data = [\u001b[38;5;28;43mself\u001b[39;49m\u001b[43m.\u001b[49m\u001b[43mdataset\u001b[49m\u001b[43m[\u001b[49m\u001b[43midx\u001b[49m\u001b[43m]\u001b[49m \u001b[38;5;28;01mfor\u001b[39;00m idx \u001b[38;5;129;01min\u001b[39;00m possibly_batched_index]\n\u001b[32m     53\u001b[39m \u001b[38;5;28;01melse\u001b[39;00m:\n\u001b[32m     54\u001b[39m     data = \u001b[38;5;28mself\u001b[39m.dataset[possibly_batched_index]\n",
      "\u001b[36mCell\u001b[39m\u001b[36m \u001b[39m\u001b[32mIn[5]\u001b[39m\u001b[32m, line 38\u001b[39m, in \u001b[36mTrajDataset.__getitem__\u001b[39m\u001b[34m(self, idx)\u001b[39m\n\u001b[32m     33\u001b[39m \u001b[38;5;66;03m# Outputs\u001b[39;00m\n\u001b[32m     34\u001b[39m vel_samples = \u001b[38;5;28mself\u001b[39m.vel_samples[idx]\n\u001b[32m---> \u001b[39m\u001b[32m38\u001b[39m \u001b[38;5;28;01mreturn\u001b[39;00m \u001b[43mtorch\u001b[49m\u001b[43m.\u001b[49m\u001b[43mtensor\u001b[49m\u001b[43m(\u001b[49m\u001b[43minp\u001b[49m\u001b[43m)\u001b[49m.float(), torch.tensor(vel_init).float(), torch.tensor(acc_init).float(), torch.tensor(theta_init).float(), torch.tensor(vel_samples).float()\n",
      "\u001b[31mKeyboardInterrupt\u001b[39m: "
     ]
    }
   ],
   "source": [
    "epochs = 300\n",
    "step = 0 \n",
    "beta = 1.0 # 3.5\n",
    "\n",
    "optimizer = optim.AdamW(model.parameters(), lr = 1e-4, weight_decay=6e-5)\n",
    "# optimizer = optim.RMSprop(model.parameters(), lr = 1e-3, weight_decay=6e-5)\n",
    "\n",
    "# scheduler = optim.lr_scheduler.StepLR(optimizer, step_size = 100, gamma = 0.1)\n",
    "\n",
    "avg_train_loss, avg_loss_primal, avg_fixed_point_loss, avg_proj_loss = [], [], [], []\n",
    "model.train()\n",
    "for epoch in range(epochs):\n",
    "\t\n",
    "\t# Train Loop\n",
    "\tlosses_train, aug_losses_primal, aug_losses_fixed_point, aug_losses_proj = [], [], [], []\n",
    "\t\n",
    "\tfor (inp, vel_init, acc_init,  theta_init, vel_samples) in train_loader:\n",
    "\t\t\n",
    "\t\t# Input and Output \n",
    "  \n",
    "\t\t################################################################################################\n",
    "\n",
    "\t\t# print(goal_des[0])\n",
    "\t\t# print(y_lb[0], y_ub[0])\n",
    "\n",
    "  \n",
    "\t\tinp = inp.to(device)\n",
    "\t\tvel_init = vel_init.to(device)\n",
    "\t\tacc_init = acc_init.to(device)\n",
    "\t\ttheta_init = theta_init.to(device)\n",
    "\n",
    "\t\tvel_samples = vel_samples.to(device)\n",
    "\t\n",
    "\t\t\n",
    "\t\tvel_projected, res_primal_stack, res_fixed_point_stack, accumulated_res_primal, accumulated_res_fixed_point = model(inp, vel_init, acc_init, vel_samples, vel_max, vel_min, acc_max, acc_min, jerk_max, jerk_min, theta_min, theta_max, theta_init)\n",
    "\t\tloss, primal_loss, fixed_point_loss, proj_loss = model.ss_loss(accumulated_res_primal, accumulated_res_fixed_point, vel_projected, vel_samples)\n",
    "\t\n",
    "\t\toptimizer.zero_grad()\n",
    "\t\tloss.backward()\n",
    "\t\t# torch.nn.utils.clip_grad_norm_(model.parameters(), max_norm=0.5)\n",
    "\t\toptimizer.step()\n",
    "\t\t\n",
    "\t\tlosses_train.append(loss.detach().cpu().numpy()) \n",
    "\t\taug_losses_primal.append(primal_loss.detach().cpu().numpy())\n",
    "\t\taug_losses_fixed_point.append(fixed_point_loss.detach().cpu().numpy())\n",
    "\t\taug_losses_proj.append(proj_loss.detach().cpu().numpy())\n",
    "\t\t# aug_losses_steer.append(steer_loss.detach().cpu().numpy())\n",
    "\n",
    "\t\t\n",
    "\t# scale = scale*1.2\t\n",
    "\t\t\n",
    "\tif epoch % 4 == 0:    \n",
    "\t\tprint(f\"Epoch: {epoch + 1}, Train Loss: {np.average(losses_train):.3f}, aug_loss_primal: {np.average(aug_losses_primal):.3f}, aug_loss_fixed_point: {np.average(aug_losses_fixed_point):.3f}, aug_loss_proj: {np.average(aug_losses_proj):.3f} \")\n",
    "\n",
    "\tstep += 0.15 #0.15\n",
    "\t# scheduler.step()\n",
    "\tavg_train_loss.append(np.average(losses_train)), avg_loss_primal.append(np.average(aug_losses_primal)), avg_fixed_point_loss.append(np.average(aug_losses_fixed_point)),  avg_proj_loss.append(np.average(aug_losses_proj))\n",
    "\t\n",
    "\t\t\n",
    "\n"
   ]
  },
  {
   "cell_type": "code",
   "execution_count": null,
   "id": "3ee73c2d",
   "metadata": {},
   "outputs": [],
   "source": [
    "torch.save(model.state_dict(), './weights/learned_qp_1_gru.pth')"
   ]
  },
  {
   "cell_type": "code",
   "execution_count": null,
   "id": "8a86ab88",
   "metadata": {},
   "outputs": [],
   "source": []
  },
  {
   "cell_type": "code",
   "execution_count": null,
   "id": "7830d743",
   "metadata": {},
   "outputs": [],
   "source": []
  }
 ],
 "metadata": {
  "kernelspec": {
   "display_name": "torch_jax_env",
   "language": "python",
   "name": "python3"
  },
  "language_info": {
   "codemirror_mode": {
    "name": "ipython",
    "version": 3
   },
   "file_extension": ".py",
   "mimetype": "text/x-python",
   "name": "python",
   "nbconvert_exporter": "python",
   "pygments_lexer": "ipython3",
   "version": "3.12.3"
  }
 },
 "nbformat": 4,
 "nbformat_minor": 5
}
